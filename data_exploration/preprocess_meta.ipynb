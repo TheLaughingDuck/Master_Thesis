{
 "cells": [
  {
   "cell_type": "markdown",
   "metadata": {},
   "source": [
    "# This Notebook...\n",
    "...preprocesses the patient meta data, and saves it locally as \"extracted_meta.pkl\"."
   ]
  },
  {
   "cell_type": "markdown",
   "metadata": {},
   "source": [
    "# Dependencies"
   ]
  },
  {
   "cell_type": "code",
   "execution_count": 1,
   "metadata": {},
   "outputs": [],
   "source": [
    "import pandas as pd\n",
    "import numpy as np\n",
    "\n",
    "from matplotlib import pyplot as plt\n",
    "\n",
    "from utils import unique, combine_mr_seqs\n",
    "\n",
    "import pickle"
   ]
  },
  {
   "cell_type": "markdown",
   "metadata": {},
   "source": [
    "# Load and investigate data"
   ]
  },
  {
   "cell_type": "code",
   "execution_count": 13,
   "metadata": {},
   "outputs": [
    {
     "name": "stdout",
     "output_type": "stream",
     "text": [
      "Shape:  (252144, 38) \n",
      "\n",
      "Index([                 'subjetID',                    'gender',\n",
      "                       'ethnicity',                  'survival',\n",
      "                    'session_name',           'type_of_session',\n",
      "                'From prev. study',            'session_status',\n",
      "                       'diagnosis',                     'Notes',\n",
      "                'tumor_descriptor',          'age_at_diagnosis',\n",
      "       'age_at_sample_acquisition',            'tumor_location',\n",
      "                      'image_type',             'magnification',\n",
      "                         'scanner',               'dimension_x',\n",
      "                     'dimension_y',               'dimension_z',\n",
      "                        'pixels_x',                  'pixels_y',\n",
      "                        'pixels_z',                 'file_name',\n",
      "                         'Column1',                        '_1',\n",
      "                     'Unnamed: 26',    'session-previous study',\n",
      "                     'Unnamed: 28',            'session_name.1',\n",
      "                      'is Checked',               'Unnamed: 31',\n",
      "                             13038,                 'isChecked',\n",
      "                     'Unnamed: 34',               'Unnamed: 35',\n",
      "                     'Unnamed: 36',               'Unnamed: 37'],\n",
      "      dtype='object')\n"
     ]
    }
   ],
   "source": [
    "data_raw = pd.read_excel(\"/home/simjo484/Desktop/link_to_xml_data/MRI_summary_extended.xlsx\")\n",
    "\n",
    "print(\"Shape: \", data_raw.shape, \"\\n\")\n",
    "print(data_raw.columns)\n"
   ]
  },
  {
   "cell_type": "markdown",
   "metadata": {},
   "source": [
    "# Filter on the *pre-op* sequences of patients"
   ]
  },
  {
   "cell_type": "code",
   "execution_count": 14,
   "metadata": {},
   "outputs": [
    {
     "name": "stdout",
     "output_type": "stream",
     "text": [
      "(27813, 38)\n",
      "(26526, 38)\n"
     ]
    }
   ],
   "source": [
    "# Filter only on pre_op sequences\n",
    "data_preop = data_raw[data_raw[\"session_status\"] == \"pre_op\"]\n",
    "print(data_preop.shape)\n",
    "\n",
    "unique_subjetID = unique(data_preop.drop_duplicates(subset=[\"subjetID\", \"diagnosis\"])[\"diagnosis\"]) # Find the diagnoses that have at least 18 patients\n",
    "diagnoses = unique_subjetID[unique_subjetID[\"Counts\"] >= 18][\"Values\"].tolist()\n",
    "\n",
    "data_preop_diags = data_preop[data_preop[\"diagnosis\"].isin(diagnoses)]\n",
    "print(data_preop_diags.shape)"
   ]
  },
  {
   "cell_type": "markdown",
   "metadata": {},
   "source": [
    "# Rename and combine features\n",
    "* \"Low-grade glioma/astrocytoma (WHO grade I/II)\" ---> \"L-GA\"\n",
    "* \"Medulloblastoma\" ---> \"Medu\"\n",
    "* \"High-grade glioma/astrocytoma (WHO grade III/IV)\" ---> \"H-GA\"\n",
    "* \"Ganglioglioma\" ---> \"Gang\"\n",
    "* \"Ependymoma\" ---> \"Epen\"\n",
    "* \"Atypical Teratoid Rhabdoid Tumor (ATRT)\" ---> \"ATRT\"\n",
    "* \"Brainstem glioma- Diffuse intrinsic pontine glioma\" ---> \"DIPG\"\n",
    "* \"Craniopharyngioma\" ---> \"Cran\""
   ]
  },
  {
   "cell_type": "markdown",
   "metadata": {},
   "source": [
    "# How many unique patient and session pairs are there?"
   ]
  },
  {
   "cell_type": "code",
   "execution_count": 2,
   "metadata": {},
   "outputs": [
    {
     "ename": "NameError",
     "evalue": "name 'data_preop_diags' is not defined",
     "output_type": "error",
     "traceback": [
      "\u001b[0;31m---------------------------------------------------------------------------\u001b[0m",
      "\u001b[0;31mNameError\u001b[0m                                 Traceback (most recent call last)",
      "Cell \u001b[0;32mIn[2], line 6\u001b[0m\n\u001b[1;32m      1\u001b[0m \u001b[38;5;66;03m#data_preop_diags\u001b[39;00m\n\u001b[1;32m      2\u001b[0m \n\u001b[1;32m      3\u001b[0m \u001b[38;5;66;03m### Rename MR Sequences\u001b[39;00m\n\u001b[0;32m----> 6\u001b[0m unique(combine_mr_seqs(\u001b[43mdata_preop_diags\u001b[49m[\u001b[38;5;124m\"\u001b[39m\u001b[38;5;124mimage_type\u001b[39m\u001b[38;5;124m\"\u001b[39m]))\n",
      "\u001b[0;31mNameError\u001b[0m: name 'data_preop_diags' is not defined"
     ]
    }
   ],
   "source": [
    "#data_preop_diags\n",
    "\n",
    "### Rename MR Sequences\n",
    "\n",
    "\n",
    "unique(combine_mr_seqs(data_preop_diags[\"image_type\"]))"
   ]
  },
  {
   "cell_type": "code",
   "execution_count": 48,
   "metadata": {},
   "outputs": [
    {
     "data": {
      "text/html": [
       "<div>\n",
       "<style scoped>\n",
       "    .dataframe tbody tr th:only-of-type {\n",
       "        vertical-align: middle;\n",
       "    }\n",
       "\n",
       "    .dataframe tbody tr th {\n",
       "        vertical-align: top;\n",
       "    }\n",
       "\n",
       "    .dataframe thead th {\n",
       "        text-align: right;\n",
       "    }\n",
       "</style>\n",
       "<table border=\"1\" class=\"dataframe\">\n",
       "  <thead>\n",
       "    <tr style=\"text-align: right;\">\n",
       "      <th></th>\n",
       "      <th>Values</th>\n",
       "      <th>Counts</th>\n",
       "    </tr>\n",
       "  </thead>\n",
       "  <tbody>\n",
       "    <tr>\n",
       "      <th>17</th>\n",
       "      <td>remove</td>\n",
       "      <td>1973</td>\n",
       "    </tr>\n",
       "    <tr>\n",
       "      <th>9</th>\n",
       "      <td>T1W</td>\n",
       "      <td>1403</td>\n",
       "    </tr>\n",
       "    <tr>\n",
       "      <th>14</th>\n",
       "      <td>T2W</td>\n",
       "      <td>1310</td>\n",
       "    </tr>\n",
       "    <tr>\n",
       "      <th>6</th>\n",
       "      <td>FLAIR</td>\n",
       "      <td>1116</td>\n",
       "    </tr>\n",
       "    <tr>\n",
       "      <th>10</th>\n",
       "      <td>T1W-GD</td>\n",
       "      <td>1063</td>\n",
       "    </tr>\n",
       "    <tr>\n",
       "      <th>0</th>\n",
       "      <td>ADC</td>\n",
       "      <td>1044</td>\n",
       "    </tr>\n",
       "    <tr>\n",
       "      <th>16</th>\n",
       "      <td>TRACE</td>\n",
       "      <td>849</td>\n",
       "    </tr>\n",
       "    <tr>\n",
       "      <th>3</th>\n",
       "      <td>DIFFUSION</td>\n",
       "      <td>735</td>\n",
       "    </tr>\n",
       "    <tr>\n",
       "      <th>7</th>\n",
       "      <td>MPR</td>\n",
       "      <td>559</td>\n",
       "    </tr>\n",
       "    <tr>\n",
       "      <th>4</th>\n",
       "      <td>EXP</td>\n",
       "      <td>501</td>\n",
       "    </tr>\n",
       "    <tr>\n",
       "      <th>5</th>\n",
       "      <td>FA</td>\n",
       "      <td>456</td>\n",
       "    </tr>\n",
       "    <tr>\n",
       "      <th>8</th>\n",
       "      <td>PERFUSION</td>\n",
       "      <td>380</td>\n",
       "    </tr>\n",
       "    <tr>\n",
       "      <th>1</th>\n",
       "      <td>CBF</td>\n",
       "      <td>291</td>\n",
       "    </tr>\n",
       "    <tr>\n",
       "      <th>13</th>\n",
       "      <td>T1W_MPRAGE_GD</td>\n",
       "      <td>200</td>\n",
       "    </tr>\n",
       "    <tr>\n",
       "      <th>12</th>\n",
       "      <td>T1W_FLAIR_GD</td>\n",
       "      <td>5</td>\n",
       "    </tr>\n",
       "    <tr>\n",
       "      <th>11</th>\n",
       "      <td>T1W_FLAIR</td>\n",
       "      <td>5</td>\n",
       "    </tr>\n",
       "    <tr>\n",
       "      <th>2</th>\n",
       "      <td>CSI</td>\n",
       "      <td>4</td>\n",
       "    </tr>\n",
       "    <tr>\n",
       "      <th>15</th>\n",
       "      <td>T2W-TRACE</td>\n",
       "      <td>1</td>\n",
       "    </tr>\n",
       "  </tbody>\n",
       "</table>\n",
       "</div>"
      ],
      "text/plain": [
       "           Values  Counts\n",
       "17         remove    1973\n",
       "9             T1W    1403\n",
       "14            T2W    1310\n",
       "6           FLAIR    1116\n",
       "10         T1W-GD    1063\n",
       "0             ADC    1044\n",
       "16          TRACE     849\n",
       "3       DIFFUSION     735\n",
       "7             MPR     559\n",
       "4             EXP     501\n",
       "5              FA     456\n",
       "8       PERFUSION     380\n",
       "1             CBF     291\n",
       "13  T1W_MPRAGE_GD     200\n",
       "12   T1W_FLAIR_GD       5\n",
       "11      T1W_FLAIR       5\n",
       "2             CSI       4\n",
       "15      T2W-TRACE       1"
      ]
     },
     "execution_count": 48,
     "metadata": {},
     "output_type": "execute_result"
    }
   ],
   "source": [
    "df_patient_sessions = data_preop_diags.copy()\n",
    "\n",
    "df_patient_sessions = df_patient_sessions.drop_duplicates(subset=[\"subjetID\", \"session_name\", \"image_type\"])\n",
    "\n",
    "df_patient_sessions[\"image_type\"] = combine_mr_seqs(df_patient_sessions[\"image_type\"])\n",
    "\n",
    "unique(df_patient_sessions[\"image_type\"])"
   ]
  },
  {
   "cell_type": "markdown",
   "metadata": {},
   "source": [
    "# Save the extracted data locally"
   ]
  },
  {
   "cell_type": "code",
   "execution_count": 6,
   "metadata": {},
   "outputs": [],
   "source": [
    "# This is the main dataset of sequences that we will be analysing\n",
    "extracted_meta = data_preop_diags\n",
    "\n",
    "# Save it locally\n",
    "with open(\"/local/data1/simjo484/mt_data/all_data/MRI/extracted_meta.pkl\", \"wb\") as f:\n",
    "    pickle.dump(extracted_meta, f)"
   ]
  }
 ],
 "metadata": {
  "kernelspec": {
   "display_name": "Python 3",
   "language": "python",
   "name": "python3"
  },
  "language_info": {
   "codemirror_mode": {
    "name": "ipython",
    "version": 3
   },
   "file_extension": ".py",
   "mimetype": "text/x-python",
   "name": "python",
   "nbconvert_exporter": "python",
   "pygments_lexer": "ipython3",
   "version": "3.12.8"
  }
 },
 "nbformat": 4,
 "nbformat_minor": 2
}
