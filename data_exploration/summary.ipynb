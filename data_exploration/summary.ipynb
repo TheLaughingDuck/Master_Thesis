{
 "cells": [
  {
   "cell_type": "markdown",
   "metadata": {},
   "source": [
    "# Dependencies"
   ]
  },
  {
   "cell_type": "code",
   "execution_count": 1,
   "metadata": {},
   "outputs": [],
   "source": [
    "import pandas as pd\n",
    "import numpy as np\n",
    "\n",
    "from matplotlib import pyplot as plt\n",
    "\n",
    "from utils import unique"
   ]
  },
  {
   "cell_type": "code",
   "execution_count": null,
   "metadata": {},
   "outputs": [],
   "source": [
    "data = pd.read_excel(\"/home/simjo484/Desktop/link_to_xml_data/MRI_summary_extended.xlsx\")\n",
    "\n",
    "print(\"Shape: \", data.shape, \"\\n\")\n",
    "print(data.columns)\n"
   ]
  },
  {
   "cell_type": "markdown",
   "metadata": {},
   "source": [
    "# Notes\n",
    "* gender: there are about 100.000 female, and 125.000 male, and less than 25.000 Not available.\n",
    "\n",
    "* tumor_descriptor: Seemingly non-informative."
   ]
  },
  {
   "cell_type": "markdown",
   "metadata": {},
   "source": [
    "# Information about the pre-op patients"
   ]
  },
  {
   "cell_type": "code",
   "execution_count": null,
   "metadata": {},
   "outputs": [],
   "source": [
    "# Filter on the observations that are pre operation.\n",
    "data_one = data[data[\"session_status\"] == \"pre_op\"]\n",
    "\n",
    "# Drop duplicates, one row per patient and diagnosis (potentially a patient could have two diagnoses?)\n",
    "data_preop_noduplicates = data_one.drop_duplicates(subset=[\"subjetID\", \"diagnosis\"])\n",
    "\n",
    "# Find the diagnoses that have at least 18 patients\n",
    "data_two = unique(data_preop_noduplicates[\"diagnosis\"])\n",
    "diagnoses = data_two[data_two[\"Counts\"] >= 18][\"Values\"].tolist()\n",
    "\n",
    "# Filter on diagnoses with at least 18 patients\n",
    "data_one = data_one[data_one[\"diagnosis\"].isin(diagnoses)]\n",
    "\n",
    "# Print the number of each gender for each diagnose\n",
    "for i in range(len(diagnoses)):\n",
    "    counts = unique(data_preop_noduplicates[data_preop_noduplicates[\"diagnosis\"] == diagnoses[i]][\"gender\"])\n",
    "\n",
    "    print(diagnoses[i])\n",
    "    print(counts)\n",
    "    print(\"\\n\")"
   ]
  },
  {
   "cell_type": "code",
   "execution_count": 9,
   "metadata": {},
   "outputs": [],
   "source": [
    "data_t2_and_adc = data[[img_type in [\"T2W\", \"T2W_TRIM\", \"ADC\", \"T2W_FLAIR\"] for img_type in data[\"image_type\"]]]"
   ]
  },
  {
   "cell_type": "markdown",
   "metadata": {},
   "source": [
    "# Distribution of survival"
   ]
  },
  {
   "cell_type": "code",
   "execution_count": null,
   "metadata": {},
   "outputs": [],
   "source": [
    "# Filter on the observations that are pre operation.\n",
    "data_preop = data[data[\"session_status\"] == \"pre_op\"]\n",
    "\n",
    "# What is the distribution of \"survival\"? Assuming it is number of days.\n",
    "# Distribution roughly 0 to 10.000 days (about 27 years), mean roughly 4500 days (12 years).\n",
    "data_preop.drop_duplicates(subset=[\"subjetID\", \"diagnosis\"])[\"survival\"].plot(kind=\"hist\")"
   ]
  },
  {
   "cell_type": "markdown",
   "metadata": {},
   "source": [
    "# Atypical Teratoid Rhabdoid Tumor (ATRT)"
   ]
  },
  {
   "cell_type": "code",
   "execution_count": null,
   "metadata": {},
   "outputs": [],
   "source": [
    "data_atrt = data[data[\"diagnosis\"] == \"Atypical Teratoid Rhabdoid Tumor (ATRT)\"]\n",
    "print(data_atrt.shape)\n",
    "\n",
    "fig, axs = plt.subplots(nrows=2, sharex=False)\n",
    "\n",
    "counts_gender = np.unique(data_atrt[\"gender\"], return_counts=True)\n",
    "axs[0].bar(x=counts_gender[0], height=counts_gender[1])\n",
    "axs[0].set_xlabel(\"Distribution of gender\")\n",
    "\n",
    "counts_eth = np.unique(data_atrt[\"ethnicity\"], return_counts=True)\n",
    "axs[1].bar(x=counts_eth[0], height=counts_eth[1])\n",
    "axs[1].set_xlabel(\"Distribution of ethnicity\")"
   ]
  },
  {
   "cell_type": "markdown",
   "metadata": {},
   "source": [
    "# Figures"
   ]
  },
  {
   "cell_type": "code",
   "execution_count": null,
   "metadata": {},
   "outputs": [],
   "source": [
    "fig, axs = plt.subplots(nrows=2, sharex=False)\n",
    "\n",
    "counts_gender = np.unique(data[\"gender\"], return_counts=True)\n",
    "axs[0].bar(x=counts_gender[0], height=counts_gender[1])\n",
    "axs[0].set_xlabel(\"Distribution of gender\")\n",
    "\n",
    "counts_eth = np.unique(data[\"ethnicity\"], return_counts=True)\n",
    "axs[1].bar(x=counts_eth[0], height=counts_eth[1])\n",
    "axs[1].set_xlabel(\"Distribution of ethnicity\")"
   ]
  }
 ],
 "metadata": {
  "kernelspec": {
   "display_name": "Python 3",
   "language": "python",
   "name": "python3"
  },
  "language_info": {
   "codemirror_mode": {
    "name": "ipython",
    "version": 3
   },
   "file_extension": ".py",
   "mimetype": "text/x-python",
   "name": "python",
   "nbconvert_exporter": "python",
   "pygments_lexer": "ipython3",
   "version": "3.12.8"
  }
 },
 "nbformat": 4,
 "nbformat_minor": 2
}
