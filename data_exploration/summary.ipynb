{
 "cells": [
  {
   "cell_type": "markdown",
   "metadata": {},
   "source": [
    "# Dependencies"
   ]
  },
  {
   "cell_type": "code",
   "execution_count": 2,
   "metadata": {},
   "outputs": [],
   "source": [
    "import pandas as pd\n",
    "import numpy as np\n",
    "\n",
    "from matplotlib import pyplot as plt\n",
    "\n",
    "from utils import unique\n",
    "\n",
    "import pickle\n",
    "\n",
    "from tabulate import tabulate"
   ]
  },
  {
   "cell_type": "markdown",
   "metadata": {},
   "source": [
    "# Load meta data"
   ]
  },
  {
   "cell_type": "code",
   "execution_count": 3,
   "metadata": {},
   "outputs": [],
   "source": [
    "# Open the dataset with meta data for all relevant sequences\n",
    "with open(\"/local/data1/simjo484/mt_data/all_data/MRI/extracted_meta.pkl\", \"rb\") as f:\n",
    "    meta_main = pickle.load(f)"
   ]
  },
  {
   "cell_type": "code",
   "execution_count": 4,
   "metadata": {},
   "outputs": [],
   "source": [
    "# What are the Notes? And how often do they occur?\n",
    "\n",
    "#for i in unique(meta_main[\"Notes\"]).values:\n",
    "#    print(i)"
   ]
  },
  {
   "cell_type": "markdown",
   "metadata": {},
   "source": [
    "# Produce information for each diagnose"
   ]
  },
  {
   "cell_type": "code",
   "execution_count": null,
   "metadata": {},
   "outputs": [],
   "source": [
    "diagnoses = unique(meta_main[\"diagnosis\"])[\"Values\"].tolist()\n",
    "image_types = unique(meta_main[meta_main[\"diagnosis\"] == diagnoses[0]][\"image_type\"])[\"Values\"].tolist()\n",
    "\n",
    "patient_meta = meta_main.drop_duplicates(subset=[\"subjetID\"])\n",
    "\n",
    "# Print information for each diagnose\n",
    "for diag in diagnoses:\n",
    "    print(\" ====== Diagnose: \", diag, \" =======\")\n",
    "    \n",
    "    # Counts per seq\n",
    "    print(unique(meta_main[meta_main[\"diagnosis\"] == diag][\"image_type\"]))\n",
    "    # for img_typ in unique(meta_main[meta_main[\"diagnosis\"] == diag][\"image_type\"]).values:\n",
    "    #     print(img_typ)\n",
    "    #     #counts_imgtype = unique(meta_main[meta_main[\"diagnosis\"] == diagnoses[0]][\"image_type\"]).values\n",
    "    \n",
    "    # Gender\n",
    "    counts_gend = unique(patient_meta[patient_meta[\"diagnosis\"] == diag][\"gender\"])\n",
    "\n",
    "    print(\"\\nGender counts:\")\n",
    "    print(counts_gend.values)\n",
    "    print(\"Male proportion: \", counts_gend[counts_gend[\"Values\"] == \"Male\"][\"Counts\"].values[0] / counts_gend[\"Counts\"].values.sum())\n",
    "    print(\"-------------------------------\\n\")"
   ]
  },
  {
   "cell_type": "markdown",
   "metadata": {},
   "source": [
    "# Make Diagnose table for Slides"
   ]
  },
  {
   "cell_type": "code",
   "execution_count": null,
   "metadata": {},
   "outputs": [],
   "source": [
    "# Number of patients for each diagnose\n",
    "diagnose_counts = unique(meta_main.drop_duplicates(subset=[\"subjetID\", \"diagnosis\"])[\"diagnosis\"])\n",
    "\n",
    "# Number of unique sessions for each diagnosis\n",
    "session_counts = unique(meta_main.drop_duplicates(subset=[\"subjetID\", \"session_name\", \"diagnosis\"])[\"diagnosis\"])\n",
    "\n",
    "# Combine counts\n",
    "joint = pd.merge(diagnose_counts, session_counts, on=\"Values\", how=\"outer\").sort_values(by=\"Counts_x\", ascending=False)\n",
    "\n",
    "# Make table\n",
    "print(tabulate(joint, headers=[\"Diagnose\", \"# Patients\", \"# Sessions\"], tablefmt=\"latex\", showindex=False))"
   ]
  },
  {
   "cell_type": "code",
   "execution_count": null,
   "metadata": {},
   "outputs": [],
   "source": [
    "patient_meta"
   ]
  },
  {
   "cell_type": "code",
   "execution_count": null,
   "metadata": {},
   "outputs": [],
   "source": [
    "diagnoses"
   ]
  },
  {
   "cell_type": "markdown",
   "metadata": {},
   "source": [
    "# Distribution of survival"
   ]
  },
  {
   "cell_type": "code",
   "execution_count": null,
   "metadata": {},
   "outputs": [],
   "source": [
    "# Filter on the observations that are pre operation.\n",
    "data_preop = data[data[\"session_status\"] == \"pre_op\"]\n",
    "\n",
    "# What is the distribution of \"survival\"? Assuming it is number of days.\n",
    "# Distribution roughly 0 to 10.000 days (about 27 years), mean roughly 4500 days (12 years).\n",
    "data_preop.drop_duplicates(subset=[\"subjetID\", \"diagnosis\"])[\"survival\"].plot(kind=\"hist\")"
   ]
  },
  {
   "cell_type": "markdown",
   "metadata": {},
   "source": [
    "# Atypical Teratoid Rhabdoid Tumor (ATRT)"
   ]
  },
  {
   "cell_type": "code",
   "execution_count": null,
   "metadata": {},
   "outputs": [],
   "source": [
    "data_atrt = data[data[\"diagnosis\"] == \"Atypical Teratoid Rhabdoid Tumor (ATRT)\"]\n",
    "print(data_atrt.shape)\n",
    "\n",
    "fig, axs = plt.subplots(nrows=2, sharex=False)\n",
    "\n",
    "counts_gender = np.unique(data_atrt[\"gender\"], return_counts=True)\n",
    "axs[0].bar(x=counts_gender[0], height=counts_gender[1])\n",
    "axs[0].set_xlabel(\"Distribution of gender\")"
   ]
  },
  {
   "cell_type": "markdown",
   "metadata": {},
   "source": [
    "# Figures"
   ]
  },
  {
   "cell_type": "code",
   "execution_count": null,
   "metadata": {},
   "outputs": [],
   "source": [
    "fig, axs = plt.subplots(nrows=2, sharex=False)\n",
    "\n",
    "counts_gender = np.unique(data[\"gender\"], return_counts=True)\n",
    "axs[0].bar(x=counts_gender[0], height=counts_gender[1])\n",
    "axs[0].set_xlabel(\"Distribution of gender\")\n",
    "\n",
    "counts_eth = np.unique(data[\"ethnicity\"], return_counts=True)\n",
    "axs[1].bar(x=counts_eth[0], height=counts_eth[1])\n",
    "axs[1].set_xlabel(\"Distribution of ethnicity\")"
   ]
  }
 ],
 "metadata": {
  "kernelspec": {
   "display_name": "Python 3",
   "language": "python",
   "name": "python3"
  },
  "language_info": {
   "codemirror_mode": {
    "name": "ipython",
    "version": 3
   },
   "file_extension": ".py",
   "mimetype": "text/x-python",
   "name": "python",
   "nbconvert_exporter": "python",
   "pygments_lexer": "ipython3",
   "version": "3.12.8"
  }
 },
 "nbformat": 4,
 "nbformat_minor": 2
}
